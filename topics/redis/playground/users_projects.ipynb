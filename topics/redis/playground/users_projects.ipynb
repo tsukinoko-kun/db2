{
 "cells": [
  {
   "cell_type": "code",
   "execution_count": 1,
   "id": "5c8543a1-336c-4e79-b4ff-e94d5a1d75a7",
   "metadata": {
    "tags": []
   },
   "outputs": [],
   "source": [
    "import redis\n",
    "import json\n",
    "\n",
    "r = redis.Redis(host=\"redis\")"
   ]
  },
  {
   "cell_type": "markdown",
   "id": "6f03e5f0-480a-4e38-9671-6e03b2a84999",
   "metadata": {},
   "source": [
    "# Save and find single users\n",
    "\n",
    "Let's create two functions to save and get the user:"
   ]
  },
  {
   "cell_type": "code",
   "execution_count": 2,
   "id": "a6d8f9d8-1513-4dd2-9e32-3d4301fd96a3",
   "metadata": {
    "tags": []
   },
   "outputs": [],
   "source": [
    "def save_user(user):\n",
    "  value = json.dumps(user)\n",
    "  key = f\"users:{user['id']}\"\n",
    "  return r.set(key, value)\n",
    "\n",
    "\n",
    "def find_user(id):\n",
    "  key = f\"users:{id}\"\n",
    "  value = r.get(key)\n",
    "  if value is None:\n",
    "    return False\n",
    "  return json.loads(value)"
   ]
  },
  {
   "cell_type": "markdown",
   "id": "6a7cc815-afba-4ab1-b003-8c3f89a88b2a",
   "metadata": {},
   "source": [
    "Let's create two users and save them:"
   ]
  },
  {
   "cell_type": "code",
   "execution_count": 3,
   "id": "e9d51433-7eee-4cc8-8fa1-ec97106fa1de",
   "metadata": {
    "tags": []
   },
   "outputs": [],
   "source": [
    "bob = {'id': 8, 'name': \"bob\", 'born': 1986, 'country': \"DE\"}\n",
    "alice = {'id': 12, 'name': \"alice\", 'born': 1995, 'country': \"DE\"}"
   ]
  },
  {
   "cell_type": "code",
   "execution_count": 4,
   "id": "15d00993-e0ee-405e-9ebb-e3603513a658",
   "metadata": {
    "tags": []
   },
   "outputs": [
    {
     "data": {
      "text/plain": [
       "True"
      ]
     },
     "execution_count": 4,
     "metadata": {},
     "output_type": "execute_result"
    }
   ],
   "source": [
    "save_user(bob)"
   ]
  },
  {
   "cell_type": "code",
   "execution_count": 5,
   "id": "18abd366-69bf-4164-8c92-0c71eaa82090",
   "metadata": {
    "tags": []
   },
   "outputs": [
    {
     "data": {
      "text/plain": [
       "True"
      ]
     },
     "execution_count": 5,
     "metadata": {},
     "output_type": "execute_result"
    }
   ],
   "source": [
    "save_user(alice)"
   ]
  },
  {
   "cell_type": "markdown",
   "id": "2d055a4f-9dec-42f1-a697-edfc2a43cb88",
   "metadata": {},
   "source": [
    "Now, we can try to fetch a user with an invalid id:"
   ]
  },
  {
   "cell_type": "code",
   "execution_count": 6,
   "id": "3d90d96e-bfd4-4211-8b8a-a0d511de68d3",
   "metadata": {
    "tags": []
   },
   "outputs": [
    {
     "data": {
      "text/plain": [
       "False"
      ]
     },
     "execution_count": 6,
     "metadata": {},
     "output_type": "execute_result"
    }
   ],
   "source": [
    "find_user(9)"
   ]
  },
  {
   "cell_type": "markdown",
   "id": "553fe7ea-3216-4853-aa4e-c33591a769a6",
   "metadata": {},
   "source": [
    "Time to fetch them with a valid id:"
   ]
  },
  {
   "cell_type": "code",
   "execution_count": 7,
   "id": "40f58f50-1af2-4b2c-a2ad-1df74b79710e",
   "metadata": {
    "tags": []
   },
   "outputs": [
    {
     "data": {
      "text/plain": [
       "{'id': 8, 'name': 'bob', 'born': 1986, 'country': 'DE'}"
      ]
     },
     "execution_count": 7,
     "metadata": {},
     "output_type": "execute_result"
    }
   ],
   "source": [
    "find_user(8)"
   ]
  },
  {
   "cell_type": "code",
   "execution_count": 8,
   "id": "f79bdfca-076a-442e-8d95-aa320632907e",
   "metadata": {
    "tags": []
   },
   "outputs": [
    {
     "data": {
      "text/plain": [
       "{'id': 12, 'name': 'alice', 'born': 1995, 'country': 'DE'}"
      ]
     },
     "execution_count": 8,
     "metadata": {},
     "output_type": "execute_result"
    }
   ],
   "source": [
    "find_user(12)"
   ]
  },
  {
   "cell_type": "markdown",
   "id": "c0f1fcef-e5ae-43e0-b24f-79fc8ae565e9",
   "metadata": {},
   "source": [
    "# Find all users\n",
    "\n",
    "Currently, there is no way to get a list of all users, let's store an index with all users and a corresponding function to find all users:"
   ]
  },
  {
   "cell_type": "code",
   "execution_count": 9,
   "id": "ee09af7c-518b-4c40-bbc2-9b518705db24",
   "metadata": {
    "tags": []
   },
   "outputs": [],
   "source": [
    "def save_user(user):\n",
    "  # single user\n",
    "  value = json.dumps(user)\n",
    "  key = f\"users:{user['id']}\"\n",
    "  r.set(key, value)\n",
    "  \n",
    "  # add to index\n",
    "  return r.sadd(\"user_ids\", user['id'])\n",
    "\n",
    "\n",
    "def find_users():\n",
    "  # get list of ids\n",
    "  ids = r.smembers(\"user_ids\")\n",
    "  \n",
    "  # build user keys\n",
    "  keys = [f\"users:{id.decode('utf8')}\" for id in ids]\n",
    "\n",
    "  # multi-get all keys at once\n",
    "  values = r.mget(keys)\n",
    "\n",
    "  # parse responses into user\n",
    "  return [json.loads(value) for value in values]"
   ]
  },
  {
   "cell_type": "markdown",
   "id": "b56a7927-b2fe-4c9a-8b6e-d27659d26ace",
   "metadata": {},
   "source": [
    "To add users to our index, we need to resave them:"
   ]
  },
  {
   "cell_type": "code",
   "execution_count": 10,
   "id": "816822ff-3cc1-4f98-b5af-17dfbafc2687",
   "metadata": {
    "tags": []
   },
   "outputs": [
    {
     "data": {
      "text/plain": [
       "0"
      ]
     },
     "execution_count": 10,
     "metadata": {},
     "output_type": "execute_result"
    }
   ],
   "source": [
    "save_user(bob)\n",
    "save_user(alice)"
   ]
  },
  {
   "cell_type": "markdown",
   "id": "5f7f0020-9b34-40f6-b281-a0e5b4292d73",
   "metadata": {},
   "source": [
    "Now, we can find all users:"
   ]
  },
  {
   "cell_type": "code",
   "execution_count": 11,
   "id": "9b71466f-a4a8-4ba3-b0ed-f0b852cdaba3",
   "metadata": {
    "tags": []
   },
   "outputs": [
    {
     "data": {
      "text/plain": [
       "[{'id': 8, 'name': 'bob', 'born': 1986, 'country': 'DE'},\n",
       " {'id': 12, 'name': 'alice', 'born': 1995, 'country': 'DE'}]"
      ]
     },
     "execution_count": 11,
     "metadata": {},
     "output_type": "execute_result"
    }
   ],
   "source": [
    "find_users()"
   ]
  },
  {
   "cell_type": "markdown",
   "id": "d60e0ec2-5420-4d1d-a999-c8c7f77fe370",
   "metadata": {},
   "source": [
    "# Add project entity\n",
    "\n",
    "Let's add a project entity, we cann associate users with:"
   ]
  },
  {
   "cell_type": "code",
   "execution_count": 12,
   "id": "438e5e3e-68a8-49de-82b2-b6da99fc6cbd",
   "metadata": {
    "tags": []
   },
   "outputs": [],
   "source": [
    "def save_project(project):\n",
    "  # single project\n",
    "  value = json.dumps(project)\n",
    "  key = f\"projects:{project['id']}\"\n",
    "  r.set(key, value)\n",
    "  \n",
    "  # add to index\n",
    "  return r.sadd(\"project_ids\", project['id'])"
   ]
  },
  {
   "cell_type": "markdown",
   "id": "c08b94c6-92d0-4880-938b-f75734603952",
   "metadata": {},
   "source": [
    "And now add a few projects:"
   ]
  },
  {
   "cell_type": "code",
   "execution_count": 13,
   "id": "959c3f99-7852-4d13-9a52-710a2fab40c7",
   "metadata": {
    "tags": []
   },
   "outputs": [
    {
     "data": {
      "text/plain": [
       "0"
      ]
     },
     "execution_count": 13,
     "metadata": {},
     "output_type": "execute_result"
    }
   ],
   "source": [
    "website = { 'id': 234, 'name': 'Website' }\n",
    "bycicle = { 'id': 235, 'name': 'Bycicle' }\n",
    "shop = { 'id': 8362, 'name': 'Shop' }\n",
    "\n",
    "save_project(website)\n",
    "save_project(bycicle)\n",
    "save_project(shop)"
   ]
  },
  {
   "cell_type": "markdown",
   "id": "9d5831c3-46fe-4461-8c7d-40a84a5e06b6",
   "metadata": {},
   "source": [
    "To add users to a project, we create two functions:"
   ]
  },
  {
   "cell_type": "code",
   "execution_count": 14,
   "id": "d0b0fa38-bc20-4756-88ef-a531cbcece31",
   "metadata": {
    "tags": []
   },
   "outputs": [],
   "source": [
    "def add_user_to_project(user, project):\n",
    "    return r.sadd(f\"project:{project['id']}:user_ids\", user['id'])\n",
    "\n",
    "def find_project_users(project):\n",
    "  # get list of ids\n",
    "  ids = r.smembers(f\"project:{project['id']}:user_ids\")\n",
    "  \n",
    "  # build user keys\n",
    "  keys = [f\"users:{id.decode('utf8')}\" for id in ids]\n",
    "\n",
    "  # multi-get all keys at once\n",
    "  values = r.mget(keys)\n",
    "\n",
    "  # parse responses into user\n",
    "  return [json.loads(value) for value in values]"
   ]
  },
  {
   "cell_type": "markdown",
   "id": "62072c44-fe24-42bb-a317-f2b7a39e125e",
   "metadata": {},
   "source": [
    "Now, we can add users to projects and find them again:"
   ]
  },
  {
   "cell_type": "code",
   "execution_count": 15,
   "id": "a1f19aec-6caa-480d-8d02-c2ee4489a541",
   "metadata": {
    "tags": []
   },
   "outputs": [
    {
     "data": {
      "text/plain": [
       "0"
      ]
     },
     "execution_count": 15,
     "metadata": {},
     "output_type": "execute_result"
    }
   ],
   "source": [
    "add_user_to_project(alice, website)"
   ]
  },
  {
   "cell_type": "code",
   "execution_count": 16,
   "id": "92601bfe-16f8-439c-88fa-b596670e5ed9",
   "metadata": {
    "tags": []
   },
   "outputs": [
    {
     "data": {
      "text/plain": [
       "[{'id': 8, 'name': 'bob', 'born': 1986, 'country': 'DE'},\n",
       " {'id': 12, 'name': 'alice', 'born': 1995, 'country': 'DE'}]"
      ]
     },
     "execution_count": 16,
     "metadata": {},
     "output_type": "execute_result"
    }
   ],
   "source": [
    "find_project_users(website)"
   ]
  },
  {
   "cell_type": "code",
   "execution_count": 17,
   "id": "9a5ca756-5356-48b1-80e7-755e92bd3386",
   "metadata": {
    "tags": []
   },
   "outputs": [
    {
     "data": {
      "text/plain": [
       "0"
      ]
     },
     "execution_count": 17,
     "metadata": {},
     "output_type": "execute_result"
    }
   ],
   "source": [
    "add_user_to_project(bob, website)"
   ]
  },
  {
   "cell_type": "code",
   "execution_count": 18,
   "id": "3bed4432-68f5-4999-9ab0-f7e02b7f27ff",
   "metadata": {
    "tags": []
   },
   "outputs": [
    {
     "data": {
      "text/plain": [
       "[{'id': 8, 'name': 'bob', 'born': 1986, 'country': 'DE'},\n",
       " {'id': 12, 'name': 'alice', 'born': 1995, 'country': 'DE'}]"
      ]
     },
     "execution_count": 18,
     "metadata": {},
     "output_type": "execute_result"
    }
   ],
   "source": [
    "find_project_users(website)"
   ]
  },
  {
   "cell_type": "code",
   "execution_count": null,
   "id": "128ca455-9406-478b-85e1-5bc77cfb2ed6",
   "metadata": {},
   "outputs": [],
   "source": []
  }
 ],
 "metadata": {
  "kernelspec": {
   "display_name": "Python 3 (ipykernel)",
   "language": "python",
   "name": "python3"
  },
  "language_info": {
   "codemirror_mode": {
    "name": "ipython",
    "version": 3
   },
   "file_extension": ".py",
   "mimetype": "text/x-python",
   "name": "python",
   "nbconvert_exporter": "python",
   "pygments_lexer": "ipython3",
   "version": "3.12.6"
  }
 },
 "nbformat": 4,
 "nbformat_minor": 5
}
