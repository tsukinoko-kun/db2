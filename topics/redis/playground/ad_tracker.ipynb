{
 "cells": [
  {
   "cell_type": "code",
   "execution_count": 1,
   "id": "10e51d8a-523b-44a8-916c-80d99028db6d",
   "metadata": {},
   "outputs": [],
   "source": [
    "import redis\n",
    "from datetime import datetime\n",
    "import random\n",
    "\n",
    "r = redis.Redis(host=\"redis\")"
   ]
  },
  {
   "cell_type": "code",
   "execution_count": 2,
   "id": "57013f27-652d-445e-8d4f-2416ee4a922c",
   "metadata": {
    "editable": true,
    "slideshow": {
     "slide_type": ""
    },
    "tags": []
   },
   "outputs": [],
   "source": [
    "random.seed(42)\n",
    "\n",
    "def track(campaign_id, ad_id, action, timestamp):\n",
    "    dt = datetime.fromtimestamp(timestamp)\n",
    "    r.incr(f\"campaigns:{campaign_id}:{action}:{dt.year}\")\n",
    "    r.incr(f\"campaigns:{campaign_id}:{action}:{dt.year}:{dt.month}\")\n",
    "    r.incr(f\"campaigns:{campaign_id}:{action}:{dt.year}:{dt.month}:{dt.day}\")\n",
    "    r.incr(f\"campaigns:{campaign_id}:{action}:{dt.year}:{dt.month}:{dt.day}:{dt.hour}\")\n",
    "    r.incr(f\"ads:{ad_id}:{action}:{dt.year}\")\n",
    "    r.incr(f\"ads:{ad_id}:{action}:{dt.year}:{dt.month}\")\n",
    "    r.incr(f\"ads:{ad_id}:{action}:{dt.year}:{dt.month}:{dt.day}\")\n",
    "    r.incr(f\"ads:{ad_id}:{action}:{dt.year}:{dt.month}:{dt.day}:{dt.hour}\")\n",
    "\n",
    "def campaign_funnel(campaign, timing):\n",
    "    requests = r.get(f\"campaigns:{campaign}:request:{timing}\")\n",
    "    deliveries = r.get(f\"campaigns:{campaign}:deliver:{timing}\")\n",
    "    views = r.get(f\"campaigns:{campaign}:view:{timing}\")\n",
    "    clicks = r.get(f\"campaigns:{campaign}:click:{timing}\")\n",
    "    buys = r.get(f\"campaigns:{campaign}:buy:{timing}\")\n",
    "    return {\n",
    "        \"request\": requests,\n",
    "        \"deliver\": deliveries,\n",
    "        \"view\": views,\n",
    "        \"click\": clicks,\n",
    "        \"buy\": buys\n",
    "    }\n",
    "\n",
    "def ad_funnel(ad, timing):\n",
    "    requests = r.get(f\"ads:{ad}:request:{timing}\")\n",
    "    deliveries = r.get(f\"ads:{ad}:deliver:{timing}\")\n",
    "    views = r.get(f\"ads:{ad}:view:{timing}\")\n",
    "    clicks = r.get(f\"ads:{ad}:click:{timing}\")\n",
    "    buys = r.get(f\"ads:{ad}:buy:{timing}\")\n",
    "    return {\n",
    "        \"request\": requests,\n",
    "        \"deliver\": deliveries,\n",
    "        \"view\": views,\n",
    "        \"click\": clicks,\n",
    "        \"buy\": buys\n",
    "    }\n",
    "\n",
    "def campaign_funnel_for_year(campaign, year):\n",
    "    return campaign_funnel(campaign, f\"{year}\")\n",
    "\n",
    "def campaign_funnel_for_month(campaign, year, month):\n",
    "    return campaign_funnel(campaign, f\"{year}:{month}\")\n",
    "\n",
    "def campaign_funnel_for_day(campaign, year, month, day):\n",
    "    return campaign_funnel(campaign, f\"{year}:{month}:{day}\")\n",
    "\n",
    "def campaign_funnel_for_hour(campaign, year, month, day, hour):\n",
    "    return campaign_funnel(campaign, f\"{year}:{month}:{day}:{hour}\")\n",
    "\n",
    "def ad_funnel_for_year(ad, year):\n",
    "    return ad_funnel(ad, f\"{year}\")\n",
    "\n",
    "def ad_funnel_for_month(ad, year, month):\n",
    "    return ad_funnel(ad, f\"{year}:{month}\")\n",
    "\n",
    "def ad_funnel_for_day(ad, year, month, day):\n",
    "    return ad_funnel(ad, f\"{year}:{month}:{day}\")\n",
    "\n",
    "def ad_funnel_for_hour(ad, year, month, day, hour):\n",
    "    return ad_funnel(ad, f\"{year}:{month}:{day}:{hour}\")"
   ]
  },
  {
   "cell_type": "code",
   "execution_count": 3,
   "id": "cdd3f4db-8db9-4850-9f77-77fc81b4325e",
   "metadata": {},
   "outputs": [],
   "source": [
    "# clear redis\n",
    "r.flushall()\n",
    "\n",
    "for i in range(10000):\n",
    "    timestamp = random.randint(1678395482, 1678395482 + 60*60*24*365)\n",
    "    track(\"2486af7c\", \"ad_1\", \"request\", timestamp)\n",
    "    if random.random() < 0.9:\n",
    "        track(\"2486af7c\", \"ad_1\", \"deliver\", timestamp)\n",
    "        if random.random() < 0.8:\n",
    "            track(\"2486af7c\", \"ad_1\", \"view\", timestamp)\n",
    "            if random.random() < 0.7:\n",
    "                track(\"2486af7c\", \"ad_1\", \"click\", timestamp)\n",
    "                if random.random() < 0.6:\n",
    "                    track(\"2486af7c\", \"ad_1\", \"buy\", timestamp)\n",
    "\n"
   ]
  },
  {
   "cell_type": "code",
   "execution_count": 4,
   "id": "123de08b-4663-4e5d-a609-e4c788ea976c",
   "metadata": {},
   "outputs": [
    {
     "name": "stdout",
     "output_type": "stream",
     "text": [
      "{'request': b'8095', 'deliver': b'7287', 'view': b'5878', 'click': b'4102', 'buy': b'2470'}\n",
      "{'request': b'590', 'deliver': b'538', 'view': b'431', 'click': b'313', 'buy': b'180'}\n",
      "{'request': None, 'deliver': None, 'view': None, 'click': None, 'buy': None}\n",
      "{'request': b'8095', 'deliver': b'7287', 'view': b'5878', 'click': b'4102', 'buy': b'2470'}\n",
      "{'request': b'590', 'deliver': b'538', 'view': b'431', 'click': b'313', 'buy': b'180'}\n",
      "{'request': None, 'deliver': None, 'view': None, 'click': None, 'buy': None}\n"
     ]
    }
   ],
   "source": [
    "print(campaign_funnel_for_year(\"2486af7c\", 2023))\n",
    "print(campaign_funnel_for_month(\"2486af7c\", 2023, 3))\n",
    "print(campaign_funnel_for_day(\"2486af7c\", 2023, 3, 8))\n",
    "\n",
    "print(ad_funnel_for_year(\"ad_1\", 2023))\n",
    "print(ad_funnel_for_month(\"ad_1\", 2023, 3))\n",
    "print(ad_funnel_for_day(\"ad_1\", 2023, 3, 8))"
   ]
  }
 ],
 "metadata": {
  "kernelspec": {
   "display_name": "Python 3 (ipykernel)",
   "language": "python",
   "name": "python3"
  },
  "language_info": {
   "codemirror_mode": {
    "name": "ipython",
    "version": 3
   },
   "file_extension": ".py",
   "mimetype": "text/x-python",
   "name": "python",
   "nbconvert_exporter": "python",
   "pygments_lexer": "ipython3",
   "version": "3.12.6"
  }
 },
 "nbformat": 4,
 "nbformat_minor": 5
}
