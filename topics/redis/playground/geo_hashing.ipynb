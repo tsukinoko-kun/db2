{
 "cells": [
  {
   "cell_type": "code",
   "execution_count": 1,
   "id": "1273a2e5-5cb7-4c2c-988b-ae995412246b",
   "metadata": {},
   "outputs": [],
   "source": [
    "import redis\n",
    "from datetime import datetime\n",
    "import random\n",
    "\n",
    "r = redis.Redis(host=\"redis\")"
   ]
  },
  {
   "cell_type": "code",
   "execution_count": 2,
   "id": "c7851271-473b-4670-8917-c9756b0a3d15",
   "metadata": {},
   "outputs": [],
   "source": [
    "def add(person_id, lat, lng):\n",
    "    rounded_lat = round(lat)\n",
    "    rounded_lng = round(lng)\n",
    "    key = f\"{rounded_lat}_{rounded_lng}\"\n",
    "    r.sadd(key, person_id)\n",
    "\n",
    "def lookup(lat, lng):\n",
    "    rounded_lat = round(lat)\n",
    "    rounded_lng = round(lng)\n",
    "    key = f\"{rounded_lat}_{rounded_lng}\"\n",
    "    return r.smembers(key)"
   ]
  },
  {
   "cell_type": "code",
   "execution_count": 3,
   "id": "657d91b6-da12-4e88-8387-3cdfd89435d1",
   "metadata": {},
   "outputs": [],
   "source": [
    "random.seed(1234)\n",
    "for i in range(1000000):\n",
    "    person_id = \"person_\" + str(i)\n",
    "    add(person_id, random.uniform(-90, 90), random.uniform(-180, 180))\n"
   ]
  },
  {
   "cell_type": "code",
   "execution_count": 4,
   "id": "59efff2b-37a4-4cdd-b5e1-f4632a86d9b1",
   "metadata": {},
   "outputs": [
    {
     "name": "stdout",
     "output_type": "stream",
     "text": [
      "{b'person_248162', b'person_412083', b'person_875512', b'person_825657', b'person_853368', b'person_719687', b'person_613740', b'person_533340', b'person_64303', b'person_58041', b'person_758656', b'person_625831', b'person_719557', b'person_293482', b'person_725376', b'person_39718', b'person_914149'}\n"
     ]
    }
   ],
   "source": [
    "print(lookup(51, 10))"
   ]
  }
 ],
 "metadata": {
  "kernelspec": {
   "display_name": "Python 3 (ipykernel)",
   "language": "python",
   "name": "python3"
  },
  "language_info": {
   "codemirror_mode": {
    "name": "ipython",
    "version": 3
   },
   "file_extension": ".py",
   "mimetype": "text/x-python",
   "name": "python",
   "nbconvert_exporter": "python",
   "pygments_lexer": "ipython3",
   "version": "3.12.6"
  }
 },
 "nbformat": 4,
 "nbformat_minor": 5
}
