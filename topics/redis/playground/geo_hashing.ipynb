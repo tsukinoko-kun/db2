{
 "cells": [
  {
   "cell_type": "code",
   "execution_count": 1,
   "id": "1273a2e5-5cb7-4c2c-988b-ae995412246b",
   "metadata": {},
   "outputs": [],
   "source": [
    "import redis\n",
    "from datetime import datetime\n",
    "import random\n",
    "\n",
    "r = redis.Redis(host=\"redis\")"
   ]
  },
  {
   "cell_type": "code",
   "execution_count": 2,
   "id": "c7851271-473b-4670-8917-c9756b0a3d15",
   "metadata": {},
   "outputs": [],
   "source": [
    "def add(person_id, lat, lng):\n",
    "    r.geoadd(\"people\", (lng, lat, person_id), nx=True, xx=False)\n",
    "\n",
    "def lookup(lat, lng):\n",
    "    return r.georadius(\"people\", lng, lat, 1000, \"km\", withdist=True, withcoord=True, withhash=True, count=10, sort=\"ASC\")\n"
   ]
  },
  {
   "cell_type": "code",
   "execution_count": 3,
   "id": "657d91b6-da12-4e88-8387-3cdfd89435d1",
   "metadata": {},
   "outputs": [],
   "source": [
    "add(\"bob\", 9.983746, -18.123489)\n",
    "add(\"alice\", 9.586746, -22.623489)\n",
    "add(\"eve\", 8.963746, 74.123489)"
   ]
  },
  {
   "cell_type": "code",
   "execution_count": 5,
   "id": "59efff2b-37a4-4cdd-b5e1-f4632a86d9b1",
   "metadata": {},
   "outputs": [
    {
     "name": "stdout",
     "output_type": "stream",
     "text": [
      "[[b'bob', 13.6473, 1871300797267012, (-18.123490512371063, 9.983745761437884)], [b'alice', 508.8351, 1847092783612747, (-22.62349158525467, 9.58674505985642)]]\n"
     ]
    }
   ],
   "source": [
    "print(lookup(10, -18))"
   ]
  },
  {
   "cell_type": "code",
   "execution_count": null,
   "id": "8a08eddf-4d77-44ad-90a9-59250d21bdeb",
   "metadata": {},
   "outputs": [],
   "source": []
  }
 ],
 "metadata": {
  "kernelspec": {
   "display_name": "Python 3 (ipykernel)",
   "language": "python",
   "name": "python3"
  },
  "language_info": {
   "codemirror_mode": {
    "name": "ipython",
    "version": 3
   },
   "file_extension": ".py",
   "mimetype": "text/x-python",
   "name": "python",
   "nbconvert_exporter": "python",
   "pygments_lexer": "ipython3",
   "version": "3.12.6"
  }
 },
 "nbformat": 4,
 "nbformat_minor": 5
}
