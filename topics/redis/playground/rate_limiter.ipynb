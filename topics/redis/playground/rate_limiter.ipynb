{
 "cells": [
  {
   "cell_type": "code",
   "execution_count": 1,
   "id": "5c8543a1-336c-4e79-b4ff-e94d5a1d75a7",
   "metadata": {
    "tags": []
   },
   "outputs": [],
   "source": [
    "import redis\n",
    "import json\n",
    "\n",
    "r = redis.Redis(host=\"redis\")"
   ]
  },
  {
   "cell_type": "markdown",
   "id": "6f03e5f0-480a-4e38-9671-6e03b2a84999",
   "metadata": {},
   "source": [
    "# Rate Limiter\n",
    "\n",
    "The rate limiter increments a key based on the current time bucket and ip to check if a limit was breached. The time buckets (keys) will be kept for `history_buckets` windows."
   ]
  },
  {
   "cell_type": "code",
   "execution_count": 2,
   "id": "a6d8f9d8-1513-4dd2-9e32-3d4301fd96a3",
   "metadata": {
    "tags": []
   },
   "outputs": [],
   "source": [
    "import uuid\n",
    "import time\n",
    "\n",
    "class RateLimiter:\n",
    "  def __init__(self, limit, window, history_buckets = 10):\n",
    "    self.id = str(uuid.uuid4())\n",
    "    self.limit = limit\n",
    "    self.window = window\n",
    "    self.history_buckets = history_buckets\n",
    "  \n",
    "  def current_time_bucket(self):\n",
    "    now = int(time.time())\n",
    "    return now - now % self.window\n",
    "  \n",
    "  def check(self, ip):\n",
    "    bucket = self.current_time_bucket()\n",
    "    key = f\"{self.id}:{bucket}:{ip}\"\n",
    "    r.expire(key, self.window * self.history_buckets)\n",
    "    count = int(r.incr(key))\n",
    "    return count if count <= self.limit else False"
   ]
  },
  {
   "cell_type": "markdown",
   "id": "7d110f6b-dbdf-4fe0-b8b2-a61aed21a38e",
   "metadata": {},
   "source": [
    "We can now create a rate limiter. Here we want to allow access 4 times every 20 seconds:"
   ]
  },
  {
   "cell_type": "code",
   "execution_count": 3,
   "id": "0c1a36fb-42d8-433a-824f-0f19ea509e7d",
   "metadata": {
    "tags": []
   },
   "outputs": [],
   "source": [
    "limiter = RateLimiter(4, 20)"
   ]
  },
  {
   "cell_type": "code",
   "execution_count": 4,
   "id": "6b654316-7058-448c-8837-e2d3a1aa13ba",
   "metadata": {
    "tags": []
   },
   "outputs": [
    {
     "data": {
      "text/plain": [
       "1"
      ]
     },
     "execution_count": 4,
     "metadata": {},
     "output_type": "execute_result"
    }
   ],
   "source": [
    "limiter.check(\"126.28.29.1\")"
   ]
  },
  {
   "cell_type": "code",
   "execution_count": 5,
   "id": "3602c276-a609-4163-804d-1f2f0e6bafcb",
   "metadata": {
    "tags": []
   },
   "outputs": [
    {
     "data": {
      "text/plain": [
       "2"
      ]
     },
     "execution_count": 5,
     "metadata": {},
     "output_type": "execute_result"
    }
   ],
   "source": [
    "limiter.check(\"126.28.29.1\")"
   ]
  },
  {
   "cell_type": "code",
   "execution_count": 6,
   "id": "e5e35b45-311b-49bb-abdb-e13f710e8928",
   "metadata": {
    "tags": []
   },
   "outputs": [
    {
     "data": {
      "text/plain": [
       "3"
      ]
     },
     "execution_count": 6,
     "metadata": {},
     "output_type": "execute_result"
    }
   ],
   "source": [
    "limiter.check(\"126.28.29.1\")"
   ]
  },
  {
   "cell_type": "code",
   "execution_count": 7,
   "id": "56ffe696-1176-49e2-b16b-d33df3743515",
   "metadata": {
    "tags": []
   },
   "outputs": [
    {
     "data": {
      "text/plain": [
       "4"
      ]
     },
     "execution_count": 7,
     "metadata": {},
     "output_type": "execute_result"
    }
   ],
   "source": [
    "limiter.check(\"126.28.29.1\")"
   ]
  },
  {
   "cell_type": "code",
   "execution_count": 8,
   "id": "ea52b99b-3bdc-42d6-86ad-f247c0363e4b",
   "metadata": {
    "tags": []
   },
   "outputs": [
    {
     "data": {
      "text/plain": [
       "False"
      ]
     },
     "execution_count": 8,
     "metadata": {},
     "output_type": "execute_result"
    }
   ],
   "source": [
    "limiter.check(\"126.28.29.1\")"
   ]
  },
  {
   "cell_type": "code",
   "execution_count": 9,
   "id": "0158cd7b-daa5-4edb-8125-4a379b04562a",
   "metadata": {
    "tags": []
   },
   "outputs": [
    {
     "data": {
      "text/plain": [
       "False"
      ]
     },
     "execution_count": 9,
     "metadata": {},
     "output_type": "execute_result"
    }
   ],
   "source": [
    "limiter.check(\"126.28.29.1\")"
   ]
  },
  {
   "cell_type": "markdown",
   "id": "24811830-53b8-4e8d-bb43-c96eaae0ec24",
   "metadata": {},
   "source": [
    "Let's wait until the next window:"
   ]
  },
  {
   "cell_type": "code",
   "execution_count": 10,
   "id": "81f152bf-c8b5-4d5c-af64-fb24ba002815",
   "metadata": {
    "tags": []
   },
   "outputs": [],
   "source": [
    "time.sleep(20)"
   ]
  },
  {
   "cell_type": "code",
   "execution_count": 11,
   "id": "13c3cea4-08d2-4f4c-ab11-b10a8ded780a",
   "metadata": {
    "tags": []
   },
   "outputs": [
    {
     "data": {
      "text/plain": [
       "1"
      ]
     },
     "execution_count": 11,
     "metadata": {},
     "output_type": "execute_result"
    }
   ],
   "source": [
    "limiter.check(\"126.28.29.1\")"
   ]
  },
  {
   "cell_type": "code",
   "execution_count": 12,
   "id": "b0d852dd-24cf-4b54-abd2-fb462b7ac5d9",
   "metadata": {
    "tags": []
   },
   "outputs": [
    {
     "data": {
      "text/plain": [
       "2"
      ]
     },
     "execution_count": 12,
     "metadata": {},
     "output_type": "execute_result"
    }
   ],
   "source": [
    "limiter.check(\"126.28.29.1\")"
   ]
  },
  {
   "cell_type": "code",
   "execution_count": 13,
   "id": "8202bd3e-b69a-49ac-86b8-2c1ae59264b0",
   "metadata": {
    "tags": []
   },
   "outputs": [
    {
     "data": {
      "text/plain": [
       "3"
      ]
     },
     "execution_count": 13,
     "metadata": {},
     "output_type": "execute_result"
    }
   ],
   "source": [
    "limiter.check(\"126.28.29.1\")"
   ]
  },
  {
   "cell_type": "code",
   "execution_count": 14,
   "id": "e26bef4b-ae3e-4d4b-9d0c-c619b2aba5a6",
   "metadata": {
    "tags": []
   },
   "outputs": [
    {
     "data": {
      "text/plain": [
       "4"
      ]
     },
     "execution_count": 14,
     "metadata": {},
     "output_type": "execute_result"
    }
   ],
   "source": [
    "limiter.check(\"126.28.29.1\")"
   ]
  },
  {
   "cell_type": "code",
   "execution_count": 15,
   "id": "912b1738-2e90-4e4a-80e2-66e9078ef0a9",
   "metadata": {
    "tags": []
   },
   "outputs": [
    {
     "data": {
      "text/plain": [
       "False"
      ]
     },
     "execution_count": 15,
     "metadata": {},
     "output_type": "execute_result"
    }
   ],
   "source": [
    "limiter.check(\"126.28.29.1\")"
   ]
  },
  {
   "cell_type": "code",
   "execution_count": 16,
   "id": "ca102808-35bd-47f5-b6f8-6c32ef9c8bdd",
   "metadata": {
    "tags": []
   },
   "outputs": [
    {
     "data": {
      "text/plain": [
       "False"
      ]
     },
     "execution_count": 16,
     "metadata": {},
     "output_type": "execute_result"
    }
   ],
   "source": [
    "limiter.check(\"126.28.29.1\")"
   ]
  }
 ],
 "metadata": {
  "kernelspec": {
   "display_name": "Python 3 (ipykernel)",
   "language": "python",
   "name": "python3"
  },
  "language_info": {
   "codemirror_mode": {
    "name": "ipython",
    "version": 3
   },
   "file_extension": ".py",
   "mimetype": "text/x-python",
   "name": "python",
   "nbconvert_exporter": "python",
   "pygments_lexer": "ipython3",
   "version": "3.12.6"
  }
 },
 "nbformat": 4,
 "nbformat_minor": 5
}
